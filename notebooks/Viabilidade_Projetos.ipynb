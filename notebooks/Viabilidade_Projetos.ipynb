{
 "cells": [
  {
   "cell_type": "markdown",
   "id": "ce35b9d3",
   "metadata": {},
   "source": [
    "# 📊 Viabilidade de Projetos com Machine Learning"
   ]
  },
  {
   "cell_type": "markdown",
   "id": "d9f521ef",
   "metadata": {},
   "source": [
    "Este notebook demonstra como usar o pacote `viabilidade_modelo` para prever a viabilidade de projetos com base em características como investimento, retorno esperado e impacto."
   ]
  },
  {
   "cell_type": "code",
   "execution_count": null,
   "id": "b0872803",
   "metadata": {},
   "outputs": [],
   "source": [
    "from viabilidade_modelo.core import prever_projetos"
   ]
  },
  {
   "cell_type": "code",
   "execution_count": null,
   "id": "69c23f95",
   "metadata": {},
   "outputs": [],
   "source": [
    "# Exemplo de novos projetos\n",
    "novos_projetos = [\n",
    "    {\"investment\": 250000, \"expected_return\": 400000, \"impact_score\": 8},\n",
    "    {\"investment\": 180000, \"expected_return\": 220000, \"impact_score\": 6}\n",
    "]"
   ]
  },
  {
   "cell_type": "code",
   "execution_count": null,
   "id": "5532f36e",
   "metadata": {},
   "outputs": [],
   "source": [
    "# Executando a previsão\n",
    "resultado, metricas = prever_projetos(novos_projetos)\n",
    "resultado"
   ]
  },
  {
   "cell_type": "code",
   "execution_count": null,
   "id": "8e698b07",
   "metadata": {},
   "outputs": [],
   "source": [
    "# Visualizando métricas do modelo\n",
    "metricas[\"accuracy\"]"
   ]
  },
  {
   "cell_type": "code",
   "execution_count": null,
   "id": "1a419a62",
   "metadata": {},
   "outputs": [],
   "source": [
    "# Se quiser forçar erro, comente acima e descomente abaixo para testar entrada inválida\n",
    "# prever_projetos([{ \"investment\": 100000 }])"
   ]
  }
 ],
 "metadata": {},
 "nbformat": 4,
 "nbformat_minor": 5
}
